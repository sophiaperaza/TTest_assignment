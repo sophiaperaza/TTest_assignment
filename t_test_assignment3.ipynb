{
  "nbformat": 4,
  "nbformat_minor": 0,
  "metadata": {
    "colab": {
      "name": "t-test assignment3",
      "provenance": [],
      "authorship_tag": "ABX9TyNiYLuzgkzD4QPJP5rGpumo",
      "include_colab_link": true
    },
    "kernelspec": {
      "name": "python3",
      "display_name": "Python 3"
    },
    "language_info": {
      "name": "python"
    }
  },
  "cells": [
    {
      "cell_type": "markdown",
      "metadata": {
        "id": "view-in-github",
        "colab_type": "text"
      },
      "source": [
        "<a href=\"https://colab.research.google.com/github/sophiaperaza/TTest_assignment/blob/main/t_test_assignment3.ipynb\" target=\"_parent\"><img src=\"https://colab.research.google.com/assets/colab-badge.svg\" alt=\"Open In Colab\"/></a>"
      ]
    },
    {
      "cell_type": "code",
      "metadata": {
        "id": "Yy8brq1rTot5"
      },
      "source": [
        "## Assignment questions to keep in mind: \n",
        "#                        1) Is there a difference between sex (M:F) and the number of days in hospital?\n",
        "#                        2) Is there a difference between RACE (Caucasian and African American) and the number of days in hospital?\n",
        "#                        3) Is there a difference between RACE (Asian and African American) and the number of lab procedures performed?\n",
        "# p value= significantly correlated     \n",
        "# Statistic value = absolute value to see if they statistically different \n",
        "# > .05 \n"
      ],
      "execution_count": null,
      "outputs": []
    },
    {
      "cell_type": "code",
      "metadata": {
        "id": "i1e9jcVOHsSA"
      },
      "source": [
        "#First we will import our libraries and the diabetes data set \n",
        "import pandas as pd\n",
        "diabetes= pd.read_csv('https://raw.githubusercontent.com/hantswilliams/AHI_DataSci_507/main/Datasets/Diabetes/DB1_Diabetes/diabetic_data.csv')"
      ],
      "execution_count": null,
      "outputs": []
    },
    {
      "cell_type": "code",
      "metadata": {
        "colab": {
          "base_uri": "https://localhost:8080/"
        },
        "id": "5S-gY2ZhH0w9",
        "outputId": "a1565932-d66e-484c-f5b1-9cad2eee7f53"
      },
      "source": [
        "### generate list of variable names\n",
        "list(diabetes)"
      ],
      "execution_count": null,
      "outputs": [
        {
          "output_type": "execute_result",
          "data": {
            "text/plain": [
              "['encounter_id',\n",
              " 'patient_nbr',\n",
              " 'race',\n",
              " 'gender',\n",
              " 'age',\n",
              " 'weight',\n",
              " 'admission_type_id',\n",
              " 'discharge_disposition_id',\n",
              " 'admission_source_id',\n",
              " 'time_in_hospital',\n",
              " 'payer_code',\n",
              " 'medical_specialty',\n",
              " 'num_lab_procedures',\n",
              " 'num_procedures',\n",
              " 'num_medications',\n",
              " 'number_outpatient',\n",
              " 'number_emergency',\n",
              " 'number_inpatient',\n",
              " 'diag_1',\n",
              " 'diag_2',\n",
              " 'diag_3',\n",
              " 'number_diagnoses',\n",
              " 'max_glu_serum',\n",
              " 'A1Cresult',\n",
              " 'metformin',\n",
              " 'repaglinide',\n",
              " 'nateglinide',\n",
              " 'chlorpropamide',\n",
              " 'glimepiride',\n",
              " 'acetohexamide',\n",
              " 'glipizide',\n",
              " 'glyburide',\n",
              " 'tolbutamide',\n",
              " 'pioglitazone',\n",
              " 'rosiglitazone',\n",
              " 'acarbose',\n",
              " 'miglitol',\n",
              " 'troglitazone',\n",
              " 'tolazamide',\n",
              " 'examide',\n",
              " 'citoglipton',\n",
              " 'insulin',\n",
              " 'glyburide-metformin',\n",
              " 'glipizide-metformin',\n",
              " 'glimepiride-pioglitazone',\n",
              " 'metformin-rosiglitazone',\n",
              " 'metformin-pioglitazone',\n",
              " 'change',\n",
              " 'diabetesMed',\n",
              " 'readmitted']"
            ]
          },
          "metadata": {},
          "execution_count": 4
        }
      ]
    },
    {
      "cell_type": "code",
      "metadata": {
        "id": "vkh6rp4mNlMl"
      },
      "source": [
        "# Variables of interest: \n",
        "## IVs : 'gender' , 'race' (Caucasian and African American) // (Asian and African American) \n",
        "## DVs: 'time_in_hospital' , 'num_lab_procedures' "
      ],
      "execution_count": null,
      "outputs": []
    },
    {
      "cell_type": "code",
      "metadata": {
        "id": "izSVwY12N4PO"
      },
      "source": [
        "timeinhospital = diabetes['time_in_hospital']\n",
        "labprocedures = diabetes['num_lab_procedures'] "
      ],
      "execution_count": null,
      "outputs": []
    },
    {
      "cell_type": "code",
      "metadata": {
        "colab": {
          "base_uri": "https://localhost:8080/"
        },
        "id": "q1oveyCeSYAD",
        "outputId": "181ef992-0153-4d4e-8d87-925fe35e8169"
      },
      "source": [
        "diabetes['race'].value_counts()"
      ],
      "execution_count": null,
      "outputs": [
        {
          "output_type": "execute_result",
          "data": {
            "text/plain": [
              "Caucasian          76099\n",
              "AfricanAmerican    19210\n",
              "?                   2273\n",
              "Hispanic            2037\n",
              "Other               1506\n",
              "Asian                641\n",
              "Name: race, dtype: int64"
            ]
          },
          "metadata": {},
          "execution_count": 8
        }
      ]
    },
    {
      "cell_type": "markdown",
      "metadata": {
        "id": "kOjQK-VCmQhI"
      },
      "source": [
        "# 1) Is there a difference between sex (M:F) and the number of days in hospital?"
      ]
    },
    {
      "cell_type": "code",
      "metadata": {
        "colab": {
          "base_uri": "https://localhost:8080/"
        },
        "id": "ItfZCE1zH5QT",
        "outputId": "a6265153-0ca5-4f7b-a734-fc206bc3149a"
      },
      "source": [
        "from scipy.stats import ttest_ind\n",
        "Female = diabetes[diabetes['gender']=='Female']\n",
        "Male = diabetes[diabetes['gender']=='Male']\n",
        "\n",
        "ttest_ind(Female['time_in_hospital'], Male['time_in_hospital'])"
      ],
      "execution_count": null,
      "outputs": [
        {
          "output_type": "execute_result",
          "data": {
            "text/plain": [
              "Ttest_indResult(statistic=9.542637042242887, pvalue=1.4217299655114968e-21)"
            ]
          },
          "metadata": {},
          "execution_count": 9
        }
      ]
    },
    {
      "cell_type": "markdown",
      "metadata": {
        "id": "RyUOpV31l7Oo"
      },
      "source": [
        "Based  on the results, the p value is less than .05  which indicates that sex and number of days in the hospital is statistically significant"
      ]
    },
    {
      "cell_type": "markdown",
      "metadata": {
        "id": "IT7NyrgKoJjU"
      },
      "source": [
        "# 2) Is there a difference between RACE (Caucasian and African American) and the number of days in hospital?"
      ]
    },
    {
      "cell_type": "code",
      "metadata": {
        "id": "5FeFjGIhoJEN"
      },
      "source": [
        "race1 = diabetes[diabetes['race'] == 'Caucasian']\n",
        "race2 = diabetes[diabetes['race'] == 'AfricanAmerican']"
      ],
      "execution_count": null,
      "outputs": []
    },
    {
      "cell_type": "code",
      "metadata": {
        "colab": {
          "base_uri": "https://localhost:8080/"
        },
        "id": "vUPv7lHZes46",
        "outputId": "aeea90fe-1a8e-403b-9f36-1211888022fc"
      },
      "source": [
        "ttest_ind(race1['time_in_hospital'], race2['time_in_hospital'])"
      ],
      "execution_count": null,
      "outputs": [
        {
          "output_type": "execute_result",
          "data": {
            "text/plain": [
              "Ttest_indResult(statistic=-5.0610017032095325, pvalue=4.178330085585203e-07)"
            ]
          },
          "metadata": {},
          "execution_count": 13
        }
      ]
    },
    {
      "cell_type": "markdown",
      "metadata": {
        "id": "F4mL7MxToUv2"
      },
      "source": [
        "Based on the results, the p value  is less than .05  which indicates that race(Caucasian and African American) and number of days in the hospital is statistically different \n",
        "\n"
      ]
    },
    {
      "cell_type": "markdown",
      "metadata": {
        "id": "EP7sHfh8oZpV"
      },
      "source": [
        "# 3) Is there a difference between RACE (Asian and African American) and the number of lab procedures performed?"
      ]
    },
    {
      "cell_type": "code",
      "metadata": {
        "id": "MxIbu6_QpZh7"
      },
      "source": [
        "race3 = diabetes[diabetes['race'] == 'Asian']"
      ],
      "execution_count": null,
      "outputs": []
    },
    {
      "cell_type": "code",
      "metadata": {
        "colab": {
          "base_uri": "https://localhost:8080/"
        },
        "id": "chriacjtrZZ6",
        "outputId": "f15cd4f7-fc2d-4637-9615-d7ac5b3dfc2d"
      },
      "source": [
        "ttest_ind(race2['num_lab_procedures'], race3['num_lab_procedures'])"
      ],
      "execution_count": null,
      "outputs": [
        {
          "output_type": "execute_result",
          "data": {
            "text/plain": [
              "Ttest_indResult(statistic=3.9788715315360292, pvalue=6.948907528800307e-05)"
            ]
          },
          "metadata": {},
          "execution_count": 18
        }
      ]
    },
    {
      "cell_type": "markdown",
      "metadata": {
        "id": "1s3SF8EGodmG"
      },
      "source": [
        ":Based on the results, the p value is less than .05  which indicates that race (Asian and African American) and number of labs is statistically significant"
      ]
    }
  ]
}