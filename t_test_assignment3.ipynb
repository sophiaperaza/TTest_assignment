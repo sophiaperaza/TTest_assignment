{
  "nbformat": 4,
  "nbformat_minor": 0,
  "metadata": {
    "colab": {
      "name": "t-test assignment3",
      "provenance": [],
      "authorship_tag": "ABX9TyOt5hr8LId8iZVpPqJrnTA1",
      "include_colab_link": true
    },
    "kernelspec": {
      "name": "python3",
      "display_name": "Python 3"
    },
    "language_info": {
      "name": "python"
    }
  },
  "cells": [
    {
      "cell_type": "markdown",
      "metadata": {
        "id": "view-in-github",
        "colab_type": "text"
      },
      "source": [
        "<a href=\"https://colab.research.google.com/github/sophiaperaza/TTest_assignment/blob/main/t_test_assignment3.ipynb\" target=\"_parent\"><img src=\"https://colab.research.google.com/assets/colab-badge.svg\" alt=\"Open In Colab\"/></a>"
      ]
    },
    {
      "cell_type": "code",
      "metadata": {
        "id": "Yy8brq1rTot5"
      },
      "source": [
        "## Assignment questions to keep in mind: \n",
        "#                        1) Is there a difference between sex (M:F) and the number of days in hospital?\n",
        "#                        2) Is there a difference between RACE (Caucasian and African American) and the number of days in hospital?\n",
        "#                        3) Is there a difference between RACE (Asian and African American) and the number of lab procedures performed?\n",
        "# p value= significantly correlated     \n",
        "# Statistic value = absolute value to see if they statistically different \n",
        "# > .05 \n"
      ],
      "execution_count": 1,
      "outputs": []
    },
    {
      "cell_type": "code",
      "metadata": {
        "id": "i1e9jcVOHsSA"
      },
      "source": [
        "#First we will import our libraries and the diabetes data set \n",
        "import pandas as pd\n",
        "diabetes= pd.read_csv('https://raw.githubusercontent.com/hantswilliams/AHI_DataSci_507/main/Datasets/Diabetes/DB1_Diabetes/diabetic_data.csv')"
      ],
      "execution_count": 2,
      "outputs": []
    },
    {
      "cell_type": "code",
      "metadata": {
        "colab": {
          "base_uri": "https://localhost:8080/"
        },
        "id": "5S-gY2ZhH0w9",
        "outputId": "45843be4-c50c-4287-c232-0c0781bbaff9"
      },
      "source": [
        "### generate list of variable names\n",
        "list(diabetes)"
      ],
      "execution_count": 3,
      "outputs": [
        {
          "output_type": "execute_result",
          "data": {
            "text/plain": [
              "['encounter_id',\n",
              " 'patient_nbr',\n",
              " 'race',\n",
              " 'gender',\n",
              " 'age',\n",
              " 'weight',\n",
              " 'admission_type_id',\n",
              " 'discharge_disposition_id',\n",
              " 'admission_source_id',\n",
              " 'time_in_hospital',\n",
              " 'payer_code',\n",
              " 'medical_specialty',\n",
              " 'num_lab_procedures',\n",
              " 'num_procedures',\n",
              " 'num_medications',\n",
              " 'number_outpatient',\n",
              " 'number_emergency',\n",
              " 'number_inpatient',\n",
              " 'diag_1',\n",
              " 'diag_2',\n",
              " 'diag_3',\n",
              " 'number_diagnoses',\n",
              " 'max_glu_serum',\n",
              " 'A1Cresult',\n",
              " 'metformin',\n",
              " 'repaglinide',\n",
              " 'nateglinide',\n",
              " 'chlorpropamide',\n",
              " 'glimepiride',\n",
              " 'acetohexamide',\n",
              " 'glipizide',\n",
              " 'glyburide',\n",
              " 'tolbutamide',\n",
              " 'pioglitazone',\n",
              " 'rosiglitazone',\n",
              " 'acarbose',\n",
              " 'miglitol',\n",
              " 'troglitazone',\n",
              " 'tolazamide',\n",
              " 'examide',\n",
              " 'citoglipton',\n",
              " 'insulin',\n",
              " 'glyburide-metformin',\n",
              " 'glipizide-metformin',\n",
              " 'glimepiride-pioglitazone',\n",
              " 'metformin-rosiglitazone',\n",
              " 'metformin-pioglitazone',\n",
              " 'change',\n",
              " 'diabetesMed',\n",
              " 'readmitted']"
            ]
          },
          "metadata": {},
          "execution_count": 3
        }
      ]
    },
    {
      "cell_type": "code",
      "metadata": {
        "id": "vkh6rp4mNlMl"
      },
      "source": [
        "# Variables of interest: \n",
        "## IVs : 'gender' , 'race' (Caucasian and African American) // (Asian and African American) \n",
        "## DVs: 'time_in_hospital' , 'num_lab_procedures' "
      ],
      "execution_count": 4,
      "outputs": []
    },
    {
      "cell_type": "code",
      "metadata": {
        "id": "izSVwY12N4PO"
      },
      "source": [
        "timeinhospital = diabetes['time_in_hospital']\n",
        "labprocedures = diabetes['num_lab_procedures'] "
      ],
      "execution_count": 5,
      "outputs": []
    },
    {
      "cell_type": "code",
      "metadata": {
        "id": "DFMiOe_-UaVX"
      },
      "source": [
        "## Lets check for normality and homogenity first!"
      ],
      "execution_count": 6,
      "outputs": []
    },
    {
      "cell_type": "code",
      "metadata": {
        "colab": {
          "base_uri": "https://localhost:8080/"
        },
        "id": "q1oveyCeSYAD",
        "outputId": "e4853e89-c6fb-4594-d709-95cc6e8ebff6"
      },
      "source": [
        "diabetes['race'].value_counts()"
      ],
      "execution_count": 7,
      "outputs": [
        {
          "output_type": "execute_result",
          "data": {
            "text/plain": [
              "Caucasian          76099\n",
              "AfricanAmerican    19210\n",
              "?                   2273\n",
              "Hispanic            2037\n",
              "Other               1506\n",
              "Asian                641\n",
              "Name: race, dtype: int64"
            ]
          },
          "metadata": {},
          "execution_count": 7
        }
      ]
    },
    {
      "cell_type": "code",
      "metadata": {
        "colab": {
          "base_uri": "https://localhost:8080/"
        },
        "id": "ItfZCE1zH5QT",
        "outputId": "6776dcee-9aa4-4aa0-f5fa-5e5e068376bd"
      },
      "source": [
        "## 1) Is there a difference between sex (M:F) and the number of days in hospital? \n",
        "from scipy.stats import ttest_ind\n",
        "Female = diabetes[diabetes['gender']=='Female']\n",
        "Male = diabetes[diabetes['gender']=='Male']\n",
        "\n",
        "ttest_ind(Female['time_in_hospital'], Male['time_in_hospital'])"
      ],
      "execution_count": 8,
      "outputs": [
        {
          "output_type": "execute_result",
          "data": {
            "text/plain": [
              "Ttest_indResult(statistic=9.542637042242887, pvalue=1.4217299655114968e-21)"
            ]
          },
          "metadata": {},
          "execution_count": 8
        }
      ]
    },
    {
      "cell_type": "code",
      "metadata": {
        "id": "cYjvuAOjGweY"
      },
      "source": [
        "## Based on the results, the p value indicates that sex and number of days in the hospital are not significantly correlated     \n",
        "# the statistic value, sex amd number of days in hospital are statistically different "
      ],
      "execution_count": 9,
      "outputs": []
    },
    {
      "cell_type": "code",
      "metadata": {
        "id": "G4km1GpgJBIj"
      },
      "source": [
        "# 2) Is there a difference between RACE (Caucasian and African American) and the number of days in hospital?\n",
        "## race"
      ],
      "execution_count": 10,
      "outputs": []
    },
    {
      "cell_type": "code",
      "metadata": {
        "id": "5FeFjGIhoJEN"
      },
      "source": [
        "race1 = diabetes[diabetes['race'] == 'Caucasian']\n",
        "race2 = diabetes[diabetes['race'] == 'AfricanAmerican']"
      ],
      "execution_count": 11,
      "outputs": []
    },
    {
      "cell_type": "code",
      "metadata": {
        "colab": {
          "base_uri": "https://localhost:8080/"
        },
        "id": "vUPv7lHZes46",
        "outputId": "00e097e4-5a50-4c05-cd2b-68cd652c553c"
      },
      "source": [
        "ttest_ind(race1['time_in_hospital'], race2['time_in_hospital'])"
      ],
      "execution_count": 12,
      "outputs": [
        {
          "output_type": "execute_result",
          "data": {
            "text/plain": [
              "Ttest_indResult(statistic=-5.0610017032095325, pvalue=4.178330085585203e-07)"
            ]
          },
          "metadata": {},
          "execution_count": 12
        }
      ]
    },
    {
      "cell_type": "code",
      "metadata": {
        "id": "6JArV1lkG8MZ"
      },
      "source": [
        "## Based on the results, the p value indicates that race(Caucasian and African American) and number of days in the hospital are Not significantly correlated     \n",
        "# the statistic value, race amd number of days in hospital are  statistically different"
      ],
      "execution_count": 13,
      "outputs": []
    },
    {
      "cell_type": "code",
      "metadata": {
        "id": "h0W0fvsJpR68"
      },
      "source": [
        "## 3) Is there a difference between RACE (Asian and African American) and the number of lab procedures performed?"
      ],
      "execution_count": 14,
      "outputs": []
    },
    {
      "cell_type": "code",
      "metadata": {
        "id": "MxIbu6_QpZh7"
      },
      "source": [
        "race3 = diabetes[diabetes['race'] == 'Asian']"
      ],
      "execution_count": 15,
      "outputs": []
    },
    {
      "cell_type": "code",
      "metadata": {
        "colab": {
          "base_uri": "https://localhost:8080/"
        },
        "id": "chriacjtrZZ6",
        "outputId": "f508ce82-15b8-470c-c59a-7c3e377f1711"
      },
      "source": [
        "ttest_ind(race2['time_in_hospital'], race3['time_in_hospital'])"
      ],
      "execution_count": 16,
      "outputs": [
        {
          "output_type": "execute_result",
          "data": {
            "text/plain": [
              "Ttest_indResult(statistic=4.193460125064539, pvalue=2.7592265975996794e-05)"
            ]
          },
          "metadata": {},
          "execution_count": 16
        }
      ]
    },
    {
      "cell_type": "code",
      "metadata": {
        "id": "vPBhkNrVG96W"
      },
      "source": [
        "## Based on the results, the p value indicates that race (Asian and African American) and number of days in the hospital are Not significantly correlated     \n",
        "# the statistic value, race amd number of days in hospital are statistically different"
      ],
      "execution_count": 17,
      "outputs": []
    }
  ]
}